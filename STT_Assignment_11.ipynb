{
  "nbformat": 4,
  "nbformat_minor": 0,
  "metadata": {
    "colab": {
      "provenance": []
    },
    "kernelspec": {
      "name": "python3",
      "display_name": "Python 3"
    },
    "language_info": {
      "name": "python"
    }
  },
  "cells": [
    {
      "cell_type": "code",
      "execution_count": 2,
      "metadata": {
        "id": "-o7kfegYGcbc"
      },
      "outputs": [],
      "source": [
        "import pandas as pd\n",
        "import numpy as np\n",
        "from sklearn.model_selection import train_test_split\n",
        "\n",
        "# Loading the Dataset 1 (SST2 Dataset)\n",
        "train_data = pd.read_csv(\n",
        "    \"https://raw.githubusercontent.com/clairett/pytorch-sentiment-classification/master/data/SST2/train.tsv\",\n",
        "    sep=\"\\t\", names=[\"text\", \"label\"]\n",
        ")\n",
        "\n",
        "test_data = pd.read_csv(\n",
        "    \"https://raw.githubusercontent.com/clairett/pytorch-sentiment-classification/master/data/SST2/test.tsv\",\n",
        "    sep=\"\\t\", names=[\"text\", \"label\"]\n",
        ")\n",
        "\n",
        "x_train = train_data['text']\n",
        "y_train = train_data['label']\n",
        "\n",
        "x_test = test_data['text']\n",
        "y_test = test_data['label']\n",
        "\n",
        "# Splitting the training dataset into training (80%) and validation (20%)\n",
        "x_train, x_val, y_train, y_val = train_test_split(x_train, y_train, test_size=0.2, random_state=42)\n",
        "\n",
        "x_train = x_train.to_frame().reset_index(drop=True)\n",
        "x_val = x_val.to_frame().reset_index(drop=True)\n",
        "x_test = x_test.to_frame().reset_index(drop=True)\n",
        "y_train = y_train.to_frame().reset_index(drop=True)\n",
        "y_val = y_val.to_frame().reset_index(drop=True)\n",
        "y_test = y_test.to_frame().reset_index(drop=True)\n",
        "\n",
        "x_train = x_train['text']\n",
        "x_val = x_val['text']\n",
        "x_test = x_test['text']\n",
        "y_train = y_train['label']\n",
        "y_val = y_val['label']\n",
        "y_test = y_test['label']"
      ]
    },
    {
      "cell_type": "code",
      "source": [
        "x_train"
      ],
      "metadata": {
        "colab": {
          "base_uri": "https://localhost:8080/",
          "height": 458
        },
        "id": "uaSCgeZ_IUYU",
        "outputId": "b2d2c4b4-ee99-4ac4-d76f-427e0a2cee67"
      },
      "execution_count": 3,
      "outputs": [
        {
          "output_type": "execute_result",
          "data": {
            "text/plain": [
              "0       graphic sex may be what 's attracting audience...\n",
              "1                    perhaps the grossest movie ever made\n",
              "2       the film is moody , oozing , chilling and hear...\n",
              "3       watching the chemistry between freeman and jud...\n",
              "4       the wonderfully lush morvern callar is pure pu...\n",
              "                              ...                        \n",
              "5531    a summer entertainment adults can see without ...\n",
              "5532              it 's a cool event for the whole family\n",
              "5533                       one of the worst films of 2002\n",
              "5534       the trashy teen sleaze equivalent of showgirls\n",
              "5535                   the all french cast is marveilleux\n",
              "Name: text, Length: 5536, dtype: object"
            ],
            "text/html": [
              "<div>\n",
              "<style scoped>\n",
              "    .dataframe tbody tr th:only-of-type {\n",
              "        vertical-align: middle;\n",
              "    }\n",
              "\n",
              "    .dataframe tbody tr th {\n",
              "        vertical-align: top;\n",
              "    }\n",
              "\n",
              "    .dataframe thead th {\n",
              "        text-align: right;\n",
              "    }\n",
              "</style>\n",
              "<table border=\"1\" class=\"dataframe\">\n",
              "  <thead>\n",
              "    <tr style=\"text-align: right;\">\n",
              "      <th></th>\n",
              "      <th>text</th>\n",
              "    </tr>\n",
              "  </thead>\n",
              "  <tbody>\n",
              "    <tr>\n",
              "      <th>0</th>\n",
              "      <td>graphic sex may be what 's attracting audience...</td>\n",
              "    </tr>\n",
              "    <tr>\n",
              "      <th>1</th>\n",
              "      <td>perhaps the grossest movie ever made</td>\n",
              "    </tr>\n",
              "    <tr>\n",
              "      <th>2</th>\n",
              "      <td>the film is moody , oozing , chilling and hear...</td>\n",
              "    </tr>\n",
              "    <tr>\n",
              "      <th>3</th>\n",
              "      <td>watching the chemistry between freeman and jud...</td>\n",
              "    </tr>\n",
              "    <tr>\n",
              "      <th>4</th>\n",
              "      <td>the wonderfully lush morvern callar is pure pu...</td>\n",
              "    </tr>\n",
              "    <tr>\n",
              "      <th>...</th>\n",
              "      <td>...</td>\n",
              "    </tr>\n",
              "    <tr>\n",
              "      <th>5531</th>\n",
              "      <td>a summer entertainment adults can see without ...</td>\n",
              "    </tr>\n",
              "    <tr>\n",
              "      <th>5532</th>\n",
              "      <td>it 's a cool event for the whole family</td>\n",
              "    </tr>\n",
              "    <tr>\n",
              "      <th>5533</th>\n",
              "      <td>one of the worst films of 2002</td>\n",
              "    </tr>\n",
              "    <tr>\n",
              "      <th>5534</th>\n",
              "      <td>the trashy teen sleaze equivalent of showgirls</td>\n",
              "    </tr>\n",
              "    <tr>\n",
              "      <th>5535</th>\n",
              "      <td>the all french cast is marveilleux</td>\n",
              "    </tr>\n",
              "  </tbody>\n",
              "</table>\n",
              "<p>5536 rows × 1 columns</p>\n",
              "</div><br><label><b>dtype:</b> object</label>"
            ]
          },
          "metadata": {},
          "execution_count": 3
        }
      ]
    },
    {
      "cell_type": "code",
      "source": [
        "y_train"
      ],
      "metadata": {
        "colab": {
          "base_uri": "https://localhost:8080/",
          "height": 458
        },
        "id": "_GCtos7tIWUf",
        "outputId": "16ea75a8-c1db-4f73-a699-0c9253d90941"
      },
      "execution_count": 4,
      "outputs": [
        {
          "output_type": "execute_result",
          "data": {
            "text/plain": [
              "0       1\n",
              "1       0\n",
              "2       1\n",
              "3       1\n",
              "4       1\n",
              "       ..\n",
              "5531    1\n",
              "5532    1\n",
              "5533    0\n",
              "5534    0\n",
              "5535    1\n",
              "Name: label, Length: 5536, dtype: int64"
            ],
            "text/html": [
              "<div>\n",
              "<style scoped>\n",
              "    .dataframe tbody tr th:only-of-type {\n",
              "        vertical-align: middle;\n",
              "    }\n",
              "\n",
              "    .dataframe tbody tr th {\n",
              "        vertical-align: top;\n",
              "    }\n",
              "\n",
              "    .dataframe thead th {\n",
              "        text-align: right;\n",
              "    }\n",
              "</style>\n",
              "<table border=\"1\" class=\"dataframe\">\n",
              "  <thead>\n",
              "    <tr style=\"text-align: right;\">\n",
              "      <th></th>\n",
              "      <th>label</th>\n",
              "    </tr>\n",
              "  </thead>\n",
              "  <tbody>\n",
              "    <tr>\n",
              "      <th>0</th>\n",
              "      <td>1</td>\n",
              "    </tr>\n",
              "    <tr>\n",
              "      <th>1</th>\n",
              "      <td>0</td>\n",
              "    </tr>\n",
              "    <tr>\n",
              "      <th>2</th>\n",
              "      <td>1</td>\n",
              "    </tr>\n",
              "    <tr>\n",
              "      <th>3</th>\n",
              "      <td>1</td>\n",
              "    </tr>\n",
              "    <tr>\n",
              "      <th>4</th>\n",
              "      <td>1</td>\n",
              "    </tr>\n",
              "    <tr>\n",
              "      <th>...</th>\n",
              "      <td>...</td>\n",
              "    </tr>\n",
              "    <tr>\n",
              "      <th>5531</th>\n",
              "      <td>1</td>\n",
              "    </tr>\n",
              "    <tr>\n",
              "      <th>5532</th>\n",
              "      <td>1</td>\n",
              "    </tr>\n",
              "    <tr>\n",
              "      <th>5533</th>\n",
              "      <td>0</td>\n",
              "    </tr>\n",
              "    <tr>\n",
              "      <th>5534</th>\n",
              "      <td>0</td>\n",
              "    </tr>\n",
              "    <tr>\n",
              "      <th>5535</th>\n",
              "      <td>1</td>\n",
              "    </tr>\n",
              "  </tbody>\n",
              "</table>\n",
              "<p>5536 rows × 1 columns</p>\n",
              "</div><br><label><b>dtype:</b> int64</label>"
            ]
          },
          "metadata": {},
          "execution_count": 4
        }
      ]
    },
    {
      "cell_type": "code",
      "source": [
        "x_val"
      ],
      "metadata": {
        "colab": {
          "base_uri": "https://localhost:8080/",
          "height": 458
        },
        "id": "oIm85ZL2IWSX",
        "outputId": "4333cb3c-7803-4f7f-ef75-e02b3b0d21f0"
      },
      "execution_count": 5,
      "outputs": [
        {
          "output_type": "execute_result",
          "data": {
            "text/plain": [
              "0                                     overly melodramatic\n",
              "1       lrb westbrook rrb makes a wonderful subject fo...\n",
              "2        mama africa pretty much delivers on that promise\n",
              "3                                     sad nonsense , this\n",
              "4       easily the most thoughtful fictional examinati...\n",
              "                              ...                        \n",
              "1379    diane lane 's sophisticated performance ca n't...\n",
              "1380    the mantra behind the project seems to have be...\n",
              "1381    what a concept , what an idea , what a thrill ...\n",
              "1382    lrb seems rrb even more uselessly redundant an...\n",
              "1383           one of the best inside show biz yarns ever\n",
              "Name: text, Length: 1384, dtype: object"
            ],
            "text/html": [
              "<div>\n",
              "<style scoped>\n",
              "    .dataframe tbody tr th:only-of-type {\n",
              "        vertical-align: middle;\n",
              "    }\n",
              "\n",
              "    .dataframe tbody tr th {\n",
              "        vertical-align: top;\n",
              "    }\n",
              "\n",
              "    .dataframe thead th {\n",
              "        text-align: right;\n",
              "    }\n",
              "</style>\n",
              "<table border=\"1\" class=\"dataframe\">\n",
              "  <thead>\n",
              "    <tr style=\"text-align: right;\">\n",
              "      <th></th>\n",
              "      <th>text</th>\n",
              "    </tr>\n",
              "  </thead>\n",
              "  <tbody>\n",
              "    <tr>\n",
              "      <th>0</th>\n",
              "      <td>overly melodramatic</td>\n",
              "    </tr>\n",
              "    <tr>\n",
              "      <th>1</th>\n",
              "      <td>lrb westbrook rrb makes a wonderful subject fo...</td>\n",
              "    </tr>\n",
              "    <tr>\n",
              "      <th>2</th>\n",
              "      <td>mama africa pretty much delivers on that promise</td>\n",
              "    </tr>\n",
              "    <tr>\n",
              "      <th>3</th>\n",
              "      <td>sad nonsense , this</td>\n",
              "    </tr>\n",
              "    <tr>\n",
              "      <th>4</th>\n",
              "      <td>easily the most thoughtful fictional examinati...</td>\n",
              "    </tr>\n",
              "    <tr>\n",
              "      <th>...</th>\n",
              "      <td>...</td>\n",
              "    </tr>\n",
              "    <tr>\n",
              "      <th>1379</th>\n",
              "      <td>diane lane 's sophisticated performance ca n't...</td>\n",
              "    </tr>\n",
              "    <tr>\n",
              "      <th>1380</th>\n",
              "      <td>the mantra behind the project seems to have be...</td>\n",
              "    </tr>\n",
              "    <tr>\n",
              "      <th>1381</th>\n",
              "      <td>what a concept , what an idea , what a thrill ...</td>\n",
              "    </tr>\n",
              "    <tr>\n",
              "      <th>1382</th>\n",
              "      <td>lrb seems rrb even more uselessly redundant an...</td>\n",
              "    </tr>\n",
              "    <tr>\n",
              "      <th>1383</th>\n",
              "      <td>one of the best inside show biz yarns ever</td>\n",
              "    </tr>\n",
              "  </tbody>\n",
              "</table>\n",
              "<p>1384 rows × 1 columns</p>\n",
              "</div><br><label><b>dtype:</b> object</label>"
            ]
          },
          "metadata": {},
          "execution_count": 5
        }
      ]
    },
    {
      "cell_type": "code",
      "source": [
        "y_val"
      ],
      "metadata": {
        "colab": {
          "base_uri": "https://localhost:8080/",
          "height": 458
        },
        "id": "bkresHLGIWPx",
        "outputId": "0c9d7554-3669-4263-a1bd-4e0815114501"
      },
      "execution_count": 6,
      "outputs": [
        {
          "output_type": "execute_result",
          "data": {
            "text/plain": [
              "0       0\n",
              "1       1\n",
              "2       1\n",
              "3       0\n",
              "4       1\n",
              "       ..\n",
              "1379    0\n",
              "1380    0\n",
              "1381    1\n",
              "1382    0\n",
              "1383    1\n",
              "Name: label, Length: 1384, dtype: int64"
            ],
            "text/html": [
              "<div>\n",
              "<style scoped>\n",
              "    .dataframe tbody tr th:only-of-type {\n",
              "        vertical-align: middle;\n",
              "    }\n",
              "\n",
              "    .dataframe tbody tr th {\n",
              "        vertical-align: top;\n",
              "    }\n",
              "\n",
              "    .dataframe thead th {\n",
              "        text-align: right;\n",
              "    }\n",
              "</style>\n",
              "<table border=\"1\" class=\"dataframe\">\n",
              "  <thead>\n",
              "    <tr style=\"text-align: right;\">\n",
              "      <th></th>\n",
              "      <th>label</th>\n",
              "    </tr>\n",
              "  </thead>\n",
              "  <tbody>\n",
              "    <tr>\n",
              "      <th>0</th>\n",
              "      <td>0</td>\n",
              "    </tr>\n",
              "    <tr>\n",
              "      <th>1</th>\n",
              "      <td>1</td>\n",
              "    </tr>\n",
              "    <tr>\n",
              "      <th>2</th>\n",
              "      <td>1</td>\n",
              "    </tr>\n",
              "    <tr>\n",
              "      <th>3</th>\n",
              "      <td>0</td>\n",
              "    </tr>\n",
              "    <tr>\n",
              "      <th>4</th>\n",
              "      <td>1</td>\n",
              "    </tr>\n",
              "    <tr>\n",
              "      <th>...</th>\n",
              "      <td>...</td>\n",
              "    </tr>\n",
              "    <tr>\n",
              "      <th>1379</th>\n",
              "      <td>0</td>\n",
              "    </tr>\n",
              "    <tr>\n",
              "      <th>1380</th>\n",
              "      <td>0</td>\n",
              "    </tr>\n",
              "    <tr>\n",
              "      <th>1381</th>\n",
              "      <td>1</td>\n",
              "    </tr>\n",
              "    <tr>\n",
              "      <th>1382</th>\n",
              "      <td>0</td>\n",
              "    </tr>\n",
              "    <tr>\n",
              "      <th>1383</th>\n",
              "      <td>1</td>\n",
              "    </tr>\n",
              "  </tbody>\n",
              "</table>\n",
              "<p>1384 rows × 1 columns</p>\n",
              "</div><br><label><b>dtype:</b> int64</label>"
            ]
          },
          "metadata": {},
          "execution_count": 6
        }
      ]
    },
    {
      "cell_type": "code",
      "source": [
        "x_test"
      ],
      "metadata": {
        "colab": {
          "base_uri": "https://localhost:8080/",
          "height": 458
        },
        "id": "AJFiI9YyIWN0",
        "outputId": "4157e835-ba4e-4230-9752-dc8fbb1c33bc"
      },
      "execution_count": 7,
      "outputs": [
        {
          "output_type": "execute_result",
          "data": {
            "text/plain": [
              "0            no movement , no yuks , not much of anything\n",
              "1       a gob of drivel so sickly sweet , even the eag...\n",
              "2       gangs of new york is an unapologetic mess , wh...\n",
              "3       we never really feel involved with the story ,...\n",
              "4                   this is one of polanski 's best films\n",
              "                              ...                        \n",
              "1816    an often deadly boring , strange reading of a ...\n",
              "1817    the problem with concept films is that if the ...\n",
              "1818    safe conduct , however ambitious and well inte...\n",
              "1819    a film made with as little wit , interest , an...\n",
              "1820    but here 's the real damn it is n't funny , ei...\n",
              "Name: text, Length: 1821, dtype: object"
            ],
            "text/html": [
              "<div>\n",
              "<style scoped>\n",
              "    .dataframe tbody tr th:only-of-type {\n",
              "        vertical-align: middle;\n",
              "    }\n",
              "\n",
              "    .dataframe tbody tr th {\n",
              "        vertical-align: top;\n",
              "    }\n",
              "\n",
              "    .dataframe thead th {\n",
              "        text-align: right;\n",
              "    }\n",
              "</style>\n",
              "<table border=\"1\" class=\"dataframe\">\n",
              "  <thead>\n",
              "    <tr style=\"text-align: right;\">\n",
              "      <th></th>\n",
              "      <th>text</th>\n",
              "    </tr>\n",
              "  </thead>\n",
              "  <tbody>\n",
              "    <tr>\n",
              "      <th>0</th>\n",
              "      <td>no movement , no yuks , not much of anything</td>\n",
              "    </tr>\n",
              "    <tr>\n",
              "      <th>1</th>\n",
              "      <td>a gob of drivel so sickly sweet , even the eag...</td>\n",
              "    </tr>\n",
              "    <tr>\n",
              "      <th>2</th>\n",
              "      <td>gangs of new york is an unapologetic mess , wh...</td>\n",
              "    </tr>\n",
              "    <tr>\n",
              "      <th>3</th>\n",
              "      <td>we never really feel involved with the story ,...</td>\n",
              "    </tr>\n",
              "    <tr>\n",
              "      <th>4</th>\n",
              "      <td>this is one of polanski 's best films</td>\n",
              "    </tr>\n",
              "    <tr>\n",
              "      <th>...</th>\n",
              "      <td>...</td>\n",
              "    </tr>\n",
              "    <tr>\n",
              "      <th>1816</th>\n",
              "      <td>an often deadly boring , strange reading of a ...</td>\n",
              "    </tr>\n",
              "    <tr>\n",
              "      <th>1817</th>\n",
              "      <td>the problem with concept films is that if the ...</td>\n",
              "    </tr>\n",
              "    <tr>\n",
              "      <th>1818</th>\n",
              "      <td>safe conduct , however ambitious and well inte...</td>\n",
              "    </tr>\n",
              "    <tr>\n",
              "      <th>1819</th>\n",
              "      <td>a film made with as little wit , interest , an...</td>\n",
              "    </tr>\n",
              "    <tr>\n",
              "      <th>1820</th>\n",
              "      <td>but here 's the real damn it is n't funny , ei...</td>\n",
              "    </tr>\n",
              "  </tbody>\n",
              "</table>\n",
              "<p>1821 rows × 1 columns</p>\n",
              "</div><br><label><b>dtype:</b> object</label>"
            ]
          },
          "metadata": {},
          "execution_count": 7
        }
      ]
    },
    {
      "cell_type": "code",
      "source": [
        "y_test"
      ],
      "metadata": {
        "colab": {
          "base_uri": "https://localhost:8080/",
          "height": 458
        },
        "id": "QiZci7MsIWLp",
        "outputId": "5d8fcf74-41c1-4a13-e2bb-679eec4b80ad"
      },
      "execution_count": 8,
      "outputs": [
        {
          "output_type": "execute_result",
          "data": {
            "text/plain": [
              "0       0\n",
              "1       0\n",
              "2       0\n",
              "3       0\n",
              "4       1\n",
              "       ..\n",
              "1816    0\n",
              "1817    0\n",
              "1818    0\n",
              "1819    0\n",
              "1820    0\n",
              "Name: label, Length: 1821, dtype: int64"
            ],
            "text/html": [
              "<div>\n",
              "<style scoped>\n",
              "    .dataframe tbody tr th:only-of-type {\n",
              "        vertical-align: middle;\n",
              "    }\n",
              "\n",
              "    .dataframe tbody tr th {\n",
              "        vertical-align: top;\n",
              "    }\n",
              "\n",
              "    .dataframe thead th {\n",
              "        text-align: right;\n",
              "    }\n",
              "</style>\n",
              "<table border=\"1\" class=\"dataframe\">\n",
              "  <thead>\n",
              "    <tr style=\"text-align: right;\">\n",
              "      <th></th>\n",
              "      <th>label</th>\n",
              "    </tr>\n",
              "  </thead>\n",
              "  <tbody>\n",
              "    <tr>\n",
              "      <th>0</th>\n",
              "      <td>0</td>\n",
              "    </tr>\n",
              "    <tr>\n",
              "      <th>1</th>\n",
              "      <td>0</td>\n",
              "    </tr>\n",
              "    <tr>\n",
              "      <th>2</th>\n",
              "      <td>0</td>\n",
              "    </tr>\n",
              "    <tr>\n",
              "      <th>3</th>\n",
              "      <td>0</td>\n",
              "    </tr>\n",
              "    <tr>\n",
              "      <th>4</th>\n",
              "      <td>1</td>\n",
              "    </tr>\n",
              "    <tr>\n",
              "      <th>...</th>\n",
              "      <td>...</td>\n",
              "    </tr>\n",
              "    <tr>\n",
              "      <th>1816</th>\n",
              "      <td>0</td>\n",
              "    </tr>\n",
              "    <tr>\n",
              "      <th>1817</th>\n",
              "      <td>0</td>\n",
              "    </tr>\n",
              "    <tr>\n",
              "      <th>1818</th>\n",
              "      <td>0</td>\n",
              "    </tr>\n",
              "    <tr>\n",
              "      <th>1819</th>\n",
              "      <td>0</td>\n",
              "    </tr>\n",
              "    <tr>\n",
              "      <th>1820</th>\n",
              "      <td>0</td>\n",
              "    </tr>\n",
              "  </tbody>\n",
              "</table>\n",
              "<p>1821 rows × 1 columns</p>\n",
              "</div><br><label><b>dtype:</b> int64</label>"
            ]
          },
          "metadata": {},
          "execution_count": 8
        }
      ]
    },
    {
      "cell_type": "code",
      "source": [
        "import torch\n",
        "import torch.nn as nn\n",
        "import torch.nn.functional as F\n",
        "\n",
        "# Defining the MLP Model for Bag-of-wors(bow) with the given parameters\n",
        "class MLP(nn.Module):\n",
        "    def __init__(self):\n",
        "        super(MLP, self).__init__()\n",
        "        self.fc1 = nn.Linear(10000, 512)\n",
        "        self.fc2 = nn.Linear(512, 256)\n",
        "        self.fc3 = nn.Linear(256, 128)\n",
        "        self.fc4 = nn.Linear(128, 64)\n",
        "        self.fc5 = nn.Linear(64, 2)\n",
        "        self.dropout = nn.Dropout(0.3)\n",
        "\n",
        "    def forward(self, x):\n",
        "        x = F.relu(self.fc1(x))\n",
        "        x = self.dropout(x)\n",
        "        x = F.relu(self.fc2(x))\n",
        "        x = self.dropout(x)\n",
        "        x = F.relu(self.fc3(x))\n",
        "        x = self.dropout(x)\n",
        "        x = F.relu(self.fc4(x))\n",
        "        x = self.dropout(x)\n",
        "        x = self.fc5(x)\n",
        "        return x"
      ],
      "metadata": {
        "id": "5Zp6T9rUIWJ_"
      },
      "execution_count": 9,
      "outputs": []
    },
    {
      "cell_type": "code",
      "source": [
        "# Function to count the trainable parameters per layer\n",
        "def count_parameters_per_layer(model):\n",
        "    for name, param in model.named_parameters():\n",
        "        if param.requires_grad:\n",
        "            print(f\"Layer: {name} | Parameters: {param.numel()}\")\n",
        "    total_params = sum(p.numel() for p in model.parameters() if p.requires_grad)\n",
        "    print(f\"\\nTotal Trainable Parameters: {total_params}\")"
      ],
      "metadata": {
        "id": "KGS0_thSIWH1"
      },
      "execution_count": 10,
      "outputs": []
    },
    {
      "cell_type": "code",
      "source": [
        "# Initializing the model\n",
        "model = MLP()\n",
        "count_parameters_per_layer(model)"
      ],
      "metadata": {
        "colab": {
          "base_uri": "https://localhost:8080/"
        },
        "id": "H04g9-s_IWFh",
        "outputId": "4cb48e90-7eab-4bab-866d-50141fa47cdf"
      },
      "execution_count": 11,
      "outputs": [
        {
          "output_type": "stream",
          "name": "stdout",
          "text": [
            "Layer: fc1.weight | Parameters: 5120000\n",
            "Layer: fc1.bias | Parameters: 512\n",
            "Layer: fc2.weight | Parameters: 131072\n",
            "Layer: fc2.bias | Parameters: 256\n",
            "Layer: fc3.weight | Parameters: 32768\n",
            "Layer: fc3.bias | Parameters: 128\n",
            "Layer: fc4.weight | Parameters: 8192\n",
            "Layer: fc4.bias | Parameters: 64\n",
            "Layer: fc5.weight | Parameters: 128\n",
            "Layer: fc5.bias | Parameters: 2\n",
            "\n",
            "Total Trainable Parameters: 5293122\n"
          ]
        }
      ]
    },
    {
      "cell_type": "code",
      "source": [
        "from sklearn.feature_extraction.text import CountVectorizer\n",
        "\n",
        "# Handling missing values (Replacing NaN with an empty string)\n",
        "x_train = x_train.fillna(\"\")\n",
        "x_val = x_val.fillna(\"\")\n",
        "x_test = x_test.fillna(\"\")\n",
        "\n",
        "# Initializig CountVectorizer with max_features=10,000\n",
        "vectorizer = CountVectorizer(max_features=10000)\n",
        "\n",
        "x_train = vectorizer.fit_transform(x_train).toarray()\n",
        "x_val = vectorizer.transform(x_val).toarray()\n",
        "x_test = vectorizer.transform(x_test).toarray()"
      ],
      "metadata": {
        "id": "P7eAjZ4wIWDk"
      },
      "execution_count": 12,
      "outputs": []
    },
    {
      "cell_type": "code",
      "source": [
        "# Printing shape of transformed data\n",
        "print(f\"Train BoW Shape: {x_train.shape}\")\n",
        "print(f\"Validation BoW Shape: {x_val.shape}\")\n",
        "print(f\"Test BoW Shape: {x_test.shape}\")"
      ],
      "metadata": {
        "colab": {
          "base_uri": "https://localhost:8080/"
        },
        "id": "fEnzGhjtW0Pb",
        "outputId": "cdb4e97c-cc56-4f93-fd16-ea319124628e"
      },
      "execution_count": 13,
      "outputs": [
        {
          "output_type": "stream",
          "name": "stdout",
          "text": [
            "Train BoW Shape: (5536, 10000)\n",
            "Validation BoW Shape: (1384, 10000)\n",
            "Test BoW Shape: (1821, 10000)\n"
          ]
        }
      ]
    },
    {
      "cell_type": "code",
      "source": [
        "import torch\n",
        "import torch.nn as nn\n",
        "import torch.optim as optim\n",
        "from torch.utils.data import DataLoader, TensorDataset"
      ],
      "metadata": {
        "id": "C9vHTSBIW3G8"
      },
      "execution_count": 14,
      "outputs": []
    },
    {
      "cell_type": "code",
      "source": [
        "# Converting NumPy arrays to PyTorch tensors\n",
        "x_train_tensor = torch.tensor(x_train, dtype=torch.float32)\n",
        "y_train_tensor = torch.tensor(y_train.to_numpy(), dtype=torch.long)\n",
        "x_val_tensor = torch.tensor(x_val, dtype=torch.float32)\n",
        "y_val_tensor = torch.tensor(y_val.to_numpy(), dtype=torch.long)\n",
        "x_test_tensor = torch.tensor(x_test, dtype=torch.float32)\n",
        "y_test_tensor = torch.tensor(y_test.to_numpy(), dtype=torch.long)\n",
        "\n",
        "\n",
        "# Creating DataLoader for batch processing\n",
        "batch_size = 32\n",
        "train_dataset = TensorDataset(x_train_tensor, y_train_tensor)\n",
        "val_dataset = TensorDataset(x_val_tensor, y_val_tensor)\n",
        "test_dataset = TensorDataset(x_test_tensor, y_test_tensor)\n",
        "train_loader = DataLoader(train_dataset, batch_size=batch_size, shuffle=True)\n",
        "val_loader = DataLoader(val_dataset, batch_size=batch_size, shuffle=False)\n",
        "test_loader = DataLoader(test_dataset, batch_size=batch_size, shuffle=False)"
      ],
      "metadata": {
        "id": "ZeM8DdUDW5da"
      },
      "execution_count": 15,
      "outputs": []
    },
    {
      "cell_type": "code",
      "source": [
        "# Hyperparameters, device, and model initialization\n",
        "epochs = 10\n",
        "learning_rate = 0.0001\n",
        "device = torch.device(\"cuda\" if torch.cuda.is_available() else \"cpu\")\n",
        "\n",
        "model = MLP()\n",
        "model.to(device)\n",
        "criterion = nn.CrossEntropyLoss()\n",
        "optimizer = optim.Adam(model.parameters(), lr=learning_rate)\n",
        "\n",
        "best_val_acc = 0.0\n",
        "train_acc_arr = []\n",
        "val_acc_arr = []\n",
        "train_loss_arr = []\n",
        "val_loss_arr = []\n",
        "# Training loop\n",
        "for epoch in range(epochs):\n",
        "    model.train()\n",
        "    train_loss = 0\n",
        "    total_correct, total_samples = 0, 0\n",
        "    for inputs, labels in train_loader:\n",
        "        inputs, labels = inputs.to(device), labels.to(device)\n",
        "\n",
        "        optimizer.zero_grad()\n",
        "        outputs = model(inputs)\n",
        "        loss = criterion(outputs, labels)\n",
        "        loss.backward()\n",
        "        optimizer.step()\n",
        "\n",
        "        _, predicted = torch.max(outputs, 1)\n",
        "        total_correct += (predicted == labels).sum().item()\n",
        "        total_samples += labels.size(0)\n",
        "        train_loss += loss.item()\n",
        "\n",
        "    train_acc = total_correct / total_samples\n",
        "    train_acc_arr.append(train_acc)\n",
        "    train_loss_arr.append(train_loss)\n",
        "\n",
        " # Validation phase (without gradient computation)\n",
        "    model.eval()\n",
        "    val_loss = 0\n",
        "    val_correct, val_samples = 0, 0\n",
        "    with torch.no_grad():\n",
        "        for inputs, labels in val_loader:\n",
        "            inputs, labels = inputs.to(device), labels.to(device)\n",
        "            outputs = model(inputs)\n",
        "            _, predicted = torch.max(outputs, 1)\n",
        "            val_correct += (predicted == labels).sum().item()\n",
        "            val_samples += labels.size(0)\n",
        "            loss = criterion(outputs, labels)\n",
        "            val_loss += loss.item()\n",
        "\n",
        "    val_acc = val_correct / val_samples\n",
        "    val_acc_arr.append(val_acc)\n",
        "    val_loss_arr.append(val_loss)\n",
        "    print(f\"Epoch [{epoch+1}/{epochs}]: Train Acc = {train_acc:.2f}, Val Acc = {val_acc:.2f}\")\n",
        "\n",
        "   # Saving the best model based on validation accuracy\n",
        "    if val_acc > best_val_acc:\n",
        "        best_val_acc = val_acc\n",
        "        torch.save(model.state_dict(), \"checkpoint.pt\")\n",
        "        print(f\"New best model saved with Validation Accuracy: {best_val_acc:.2f}\")"
      ],
      "metadata": {
        "colab": {
          "base_uri": "https://localhost:8080/"
        },
        "id": "mq8u6yNxW_UN",
        "outputId": "8f99c152-ea0a-4166-d9c5-c94f42b9cd2e"
      },
      "execution_count": 27,
      "outputs": [
        {
          "output_type": "stream",
          "name": "stdout",
          "text": [
            "Epoch [1/10]: Train Acc = 0.52, Val Acc = 0.52\n",
            "New best model saved with Validation Accuracy: 0.52\n",
            "Epoch [2/10]: Train Acc = 0.71, Val Acc = 0.77\n",
            "New best model saved with Validation Accuracy: 0.77\n",
            "Epoch [3/10]: Train Acc = 0.88, Val Acc = 0.81\n",
            "New best model saved with Validation Accuracy: 0.81\n",
            "Epoch [4/10]: Train Acc = 0.96, Val Acc = 0.80\n",
            "Epoch [5/10]: Train Acc = 0.98, Val Acc = 0.78\n",
            "Epoch [6/10]: Train Acc = 0.99, Val Acc = 0.80\n",
            "Epoch [7/10]: Train Acc = 1.00, Val Acc = 0.79\n",
            "Epoch [8/10]: Train Acc = 1.00, Val Acc = 0.79\n",
            "Epoch [9/10]: Train Acc = 1.00, Val Acc = 0.80\n",
            "Epoch [10/10]: Train Acc = 1.00, Val Acc = 0.79\n"
          ]
        }
      ]
    },
    {
      "cell_type": "code",
      "source": [
        "import matplotlib.pyplot as plt\n",
        "\n",
        "# Plotting the graph between training accuracy and validation accuracy for each epoch\n",
        "plt.plot(range(1, epochs+1), train_acc_arr, label=\"Training Accuracy\")\n",
        "plt.plot(range(1, epochs+1), val_acc_arr, label=\"Validation Accuracy\")\n",
        "plt.xlabel(\"Epochs\")\n",
        "plt.ylabel(\"Accuracy\")\n",
        "plt.title(\"Training and Validation Accuracy curve\")\n",
        "plt.legend()\n",
        "plt.show()"
      ],
      "metadata": {
        "colab": {
          "base_uri": "https://localhost:8080/",
          "height": 472
        },
        "id": "Wzy_s3JGXIcy",
        "outputId": "2e593d20-b6d1-4972-dd71-43fdff8425aa"
      },
      "execution_count": 28,
      "outputs": [
        {
          "output_type": "display_data",
          "data": {
            "text/plain": [
              "<Figure size 640x480 with 1 Axes>"
            ],
            "image/png": "[encoded data removed]"
          },
          "metadata": {}
        }
      ]
    },
    {
      "cell_type": "code",
      "source": [
        "import matplotlib.pyplot as plt\n",
        "\n",
        "# Plotting the graph between training loss and validation loss for each epoch\n",
        "plt.plot(range(1, epochs+1), train_loss_arr, label=\"Training Loss\")\n",
        "plt.plot(range(1, epochs+1), val_loss_arr, label=\"Validation Loss\")\n",
        "plt.xlabel(\"Epochs\")\n",
        "plt.ylabel(\"Loss\")\n",
        "plt.title(\"Training and Validation Loss curve\")\n",
        "plt.legend()\n",
        "plt.show()"
      ],
      "metadata": {
        "colab": {
          "base_uri": "https://localhost:8080/",
          "height": 472
        },
        "id": "VSoa8AH9Yf5c",
        "outputId": "6767638f-1b01-4800-e6b2-02ea17bc7843"
      },
      "execution_count": 29,
      "outputs": [
        {
          "output_type": "display_data",
          "data": {
            "text/plain": [
              "<Figure size 640x480 with 1 Axes>"
            ],
            "image/png": "[encoded data removed]"
          },
          "metadata": {}
        }
      ]
    },
    {
      "cell_type": "code",
      "source": [
        "dynamic_quantized_model = torch.quantization.quantize_dynamic(\n",
        "    model,  # The model to quantize\n",
        "    {torch.nn.Linear},  # Specify which modules to quantize (Linear layers in BERT)\n",
        "    dtype=torch.qint8  # Quantization data type\n",
        ")\n",
        "\n",
        "torch.save(dynamic_quantized_model.state_dict(), \"quantized_model.pt\")"
      ],
      "metadata": {
        "id": "ANagi63CYzsq"
      },
      "execution_count": 30,
      "outputs": []
    },
    {
      "cell_type": "code",
      "source": [
        "half_model = model.half()\n",
        "\n",
        "torch.save(half_model.state_dict(), \"half_model.pt\")"
      ],
      "metadata": {
        "id": "SiQ8MV1nZxB9"
      },
      "execution_count": 31,
      "outputs": []
    },
    {
      "cell_type": "code",
      "source": [
        "from sklearn.metrics import accuracy_score\n",
        "def model_accuracy(model, test_loader):\n",
        "    model.eval()\n",
        "    all_preds, all_labels = [], []\n",
        "    with torch.no_grad():\n",
        "        for inputs, labels in test_loader:\n",
        "\n",
        "            params = list(model.parameters())\n",
        "            if params and params[0].dtype == torch.float16:\n",
        "                inputs = inputs.half()\n",
        "\n",
        "            inputs, labels = inputs.to(device), labels.to(device)\n",
        "            outputs = model(inputs)\n",
        "            _, predicted = torch.max(outputs, dim=1)\n",
        "            all_preds.extend(predicted.cpu().numpy())\n",
        "            all_labels.extend(labels.cpu().numpy())\n",
        "\n",
        "    return accuracy_score(all_labels, all_preds)*100"
      ],
      "metadata": {
        "id": "QrpCcPIjaJYD"
      },
      "execution_count": 32,
      "outputs": []
    },
    {
      "cell_type": "code",
      "source": [
        "import os\n",
        "def model_storage(model_path):\n",
        "    return os.path.getsize(model_path) / (1024 * 1024)"
      ],
      "metadata": {
        "id": "rv-40LCRcQkd"
      },
      "execution_count": 33,
      "outputs": []
    },
    {
      "cell_type": "code",
      "source": [
        "import time\n",
        "def model_inference_time(model, test_loader):\n",
        "    model.eval()\n",
        "    start_time  = time.time()\n",
        "    with torch.no_grad():\n",
        "        for inputs, labels in test_loader:\n",
        "\n",
        "            params = list(model.parameters())\n",
        "            if params and params[0].dtype == torch.float16:\n",
        "                inputs = inputs.half()\n",
        "\n",
        "            inputs, labels = inputs.to(device), labels.to(device)\n",
        "            outputs = model(inputs)\n",
        "            _, predicted = torch.max(outputs, dim=1)\n",
        "    end_time  = time.time()\n",
        "    inference_time = end_time - start_time\n",
        "    return inference_time*1000"
      ],
      "metadata": {
        "id": "tJYU2_Jjblkj"
      },
      "execution_count": 34,
      "outputs": []
    },
    {
      "cell_type": "code",
      "source": [
        "model = MLP()\n",
        "model.load_state_dict(torch.load(\"checkpoint.pt\"))"
      ],
      "metadata": {
        "colab": {
          "base_uri": "https://localhost:8080/"
        },
        "id": "OK-mkGZYhsEH",
        "outputId": "b57aa4d3-314e-42de-9220-84c72b915160"
      },
      "execution_count": 35,
      "outputs": [
        {
          "output_type": "execute_result",
          "data": {
            "text/plain": [
              "<All keys matched successfully>"
            ]
          },
          "metadata": {},
          "execution_count": 35
        }
      ]
    },
    {
      "cell_type": "code",
      "source": [
        "original_acc = model_accuracy(model, test_loader)\n",
        "dynamic_acc = model_accuracy(dynamic_quantized_model, test_loader)\n",
        "half_acc = model_accuracy(half_model, test_loader)\n",
        "\n",
        "original_storage = model_storage(\"/content/checkpoint.pt\")\n",
        "dynamic_storage = model_storage(\"/content/quantized_model.pt\")\n",
        "half_storage = model_storage(\"/content/half_model.pt\")\n",
        "\n",
        "original_inference_time = model_inference_time(model, test_loader)\n",
        "dynamic_inference_time = model_inference_time(dynamic_quantized_model, test_loader)\n",
        "half_inference_time = model_inference_time(half_model, test_loader)"
      ],
      "metadata": {
        "id": "fyw2uSxhcukc"
      },
      "execution_count": 36,
      "outputs": []
    },
    {
      "cell_type": "code",
      "source": [
        "# Create summary table\n",
        "print(\"-------------------------------------------------------------------------------------------\")\n",
        "print(\"Model                   | Accuracy (Out of 100) | Storage (In MB) | Inference time (In ms)|\")\n",
        "print(f\"Original                | {original_acc:.2f}                 | {original_storage:.2f}           | {original_inference_time:.2f}                |\")\n",
        "print(f\"Dynamic Quantized       | {dynamic_acc:.2f}                 | {dynamic_storage:.2f}            | {dynamic_inference_time:.2f}                |\")\n",
        "print(f\"Half Precision (FP16)   | {half_acc:.2f}                 | {half_storage:.2f}           | {half_inference_time:.2f}               |\")\n",
        "print(\"-------------------------------------------------------------------------------------------\")"
      ],
      "metadata": {
        "colab": {
          "base_uri": "https://localhost:8080/"
        },
        "id": "dAevtjjldWuM",
        "outputId": "96d5cbc6-7fc3-45d1-941f-ea53c4386bdd"
      },
      "execution_count": 37,
      "outputs": [
        {
          "output_type": "stream",
          "name": "stdout",
          "text": [
            "-------------------------------------------------------------------------------------------\n",
            "Model                   | Accuracy (Out of 100) | Storage (In MB) | Inference time (In ms)|\n",
            "Original                | 80.45                 | 20.20           | 645.22                |\n",
            "Dynamic Quantized       | 79.57                 | 5.06            | 324.59                |\n",
            "Half Precision (FP16)   | 79.41                 | 10.10           | 1860.59               |\n",
            "-------------------------------------------------------------------------------------------\n"
          ]
        }
      ]
    }
  ]
}